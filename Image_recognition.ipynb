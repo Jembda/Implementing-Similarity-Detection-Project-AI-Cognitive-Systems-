{
 "cells": [
  {
   "cell_type": "code",
   "execution_count": null,
   "id": "6c492e04-b72e-4448-84a3-4ef6acd48594",
   "metadata": {},
   "outputs": [],
   "source": []
  },
  {
   "cell_type": "markdown",
   "id": "e7568480-f414-4dde-a388-00e82d95d892",
   "metadata": {},
   "source": [
    "# Step 1: Define the Base Network\n",
    "# The base network generates embeddings for input samples. For simplicity, we use a convolutional neural network (CNN)."
   ]
  },
  {
   "cell_type": "code",
   "execution_count": 5,
   "id": "92537b65-fe9f-4913-b453-05f206cee02b",
   "metadata": {},
   "outputs": [],
   "source": [
    "from tensorflow.keras import layers, models\n",
    "\n",
    "def create_base_network(input_shape):\n",
    "    \"\"\"\n",
    "    Creates a base network for feature extraction.\n",
    "    \"\"\"\n",
    "    input = layers.Input(shape=input_shape)\n",
    "    x = layers.Conv2D(64, (3, 3), activation='relu', padding='same')(input)\n",
    "    x = layers.MaxPooling2D(pool_size=(2, 2))(x)\n",
    "    x = layers.Conv2D(128, (3, 3), activation='relu', padding='same')(x)\n",
    "    x = layers.MaxPooling2D(pool_size=(2, 2))(x)\n",
    "    x = layers.Flatten()(x)\n",
    "    x = layers.Dense(128, activation='relu')(x)\n",
    "    x = layers.Dense(64, activation='relu')(x)\n",
    "    return models.Model(input, x)"
   ]
  },
  {
   "cell_type": "markdown",
   "id": "65db1e52-9287-458c-9580-9a734039c4aa",
   "metadata": {},
   "source": [
    "# Step 2: Construct the Siamese Network\n",
    "# The Siamese network compares two inputs by passing them through the base network (shared weights)."
   ]
  },
  {
   "cell_type": "code",
   "execution_count": 3,
   "id": "0fa864bc-cfbb-49fb-b44e-949bb8389aaf",
   "metadata": {},
   "outputs": [],
   "source": [
    "from tensorflow.keras import backend as K\n",
    "\n",
    "def siamese_network(input_shape):\n",
    "    \"\"\"\n",
    "    Constructs the Siamese network.\n",
    "    \"\"\"\n",
    "    # Define the inputs\n",
    "    input_a = layers.Input(shape=input_shape)\n",
    "    input_b = layers.Input(shape=input_shape)\n",
    "\n",
    "    # Create the shared base network\n",
    "    base_network = create_base_network(input_shape)\n",
    "\n",
    "    # Generate embeddings for both inputs\n",
    "    embedding_a = base_network(input_a)\n",
    "    embedding_b = base_network(input_b)\n",
    "\n",
    "    # Compute the L2 distance between the embeddings\n",
    "    l2_distance = layers.Lambda(lambda tensors: K.abs(tensors[0] - tensors[1]))([embedding_a, embedding_b])\n",
    "\n",
    "    # Add a dense layer to output the similarity score\n",
    "    output = layers.Dense(1, activation='sigmoid')(l2_distance)\n",
    "\n",
    "    # Create the Siamese model\n",
    "    model = models.Model(inputs=[input_a, input_b], outputs=output)\n",
    "    return model"
   ]
  },
  {
   "cell_type": "markdown",
   "id": "3518b0e2-bed6-45f6-920a-9a47ec2b7f0c",
   "metadata": {},
   "source": [
    "# Step 3: Contrastive Loss Function\n",
    "# Contrastive loss helps the model learn to minimize the distance for similar pairs and maximize it for dissimilar pairs."
   ]
  },
  {
   "cell_type": "code",
   "execution_count": 4,
   "id": "4560e1c5-d956-45aa-bcbe-f889d0dfc16e",
   "metadata": {},
   "outputs": [],
   "source": [
    "import tensorflow as tf\n",
    "\n",
    "def contrastive_loss(y_true, y_pred):\n",
    "    \"\"\"\n",
    "    Contrastive loss function.\n",
    "    \"\"\"\n",
    "    margin = 1\n",
    "    return tf.reduce_mean(y_true * tf.square(y_pred) + (1 - y_true) * tf.square(tf.maximum(margin - y_pred, 0)))\n"
   ]
  },
  {
   "cell_type": "markdown",
   "id": "5f52d641-9654-4a4f-8162-8f7d5d8a649c",
   "metadata": {},
   "source": [
    "# Step 4: Training the Model\n",
    "# Compile and train the Siamese network."
   ]
  },
  {
   "cell_type": "code",
   "execution_count": null,
   "id": "5eb90f20-9320-4ea2-83a3-46e16efa582a",
   "metadata": {},
   "outputs": [],
   "source": [
    "# Define the input shape\n",
    "input_shape = (105, 105, 1)  # Example for grayscale images\n",
    "\n",
    "# Instantiate the Siamese network\n",
    "siamese_model = siamese_network(input_shape)\n",
    "\n",
    "# Compile the model\n",
    "siamese_model.compile(optimizer='adam', loss=contrastive_loss, metrics=['accuracy'])\n",
    "\n",
    "# Prepare training data (pairs of inputs and labels)\n",
    "# X_train_a, X_train_b = pairs of images\n",
    "# y_train = similarity labels (1 or 0)\n",
    "\n",
    "# Train the model\n",
    "siamese_model.fit(\n",
    "    [X_train_a, X_train_b],\n",
    "    y_train,\n",
    "    batch_size=32,\n",
    "    epochs=10,\n",
    "    validation_data=([X_val_a, X_val_b], y_val)\n",
    ")"
   ]
  },
  {
   "cell_type": "markdown",
   "id": "b3e6c5f8-ed30-4dd8-ae63-0df9b0b7d4c3",
   "metadata": {},
   "source": [
    "# Step 5: Evaluate and Use the Model"
   ]
  },
  {
   "cell_type": "code",
   "execution_count": null,
   "id": "cb413e96-eb78-48cb-b73b-e6c0411a76e2",
   "metadata": {},
   "outputs": [],
   "source": [
    "# Evaluate the model\n",
    "loss, accuracy = siamese_model.evaluate([X_test_a, X_test_b], y_test)\n",
    "print(f\"Test Loss: {loss}, Test Accuracy: {accuracy}\")\n",
    "\n",
    "# Make predictions\n",
    "predictions = siamese_model.predict([X_sample_a, X_sample_b])\n",
    "print(f\"Similarity Score: {predictions}\")"
   ]
  },
  {
   "cell_type": "code",
   "execution_count": null,
   "id": "2e4b6745-3f88-4411-8b5f-5c82904bad58",
   "metadata": {},
   "outputs": [],
   "source": []
  },
  {
   "cell_type": "code",
   "execution_count": null,
   "id": "2dbbbcbe-e6c8-4589-84c4-b1e09ed02bc9",
   "metadata": {},
   "outputs": [],
   "source": []
  },
  {
   "cell_type": "code",
   "execution_count": null,
   "id": "61876367-0575-4b34-ac97-458e370c5037",
   "metadata": {},
   "outputs": [],
   "source": []
  }
 ],
 "metadata": {
  "kernelspec": {
   "display_name": "Python 3 (ipykernel)",
   "language": "python",
   "name": "python3"
  },
  "language_info": {
   "codemirror_mode": {
    "name": "ipython",
    "version": 3
   },
   "file_extension": ".py",
   "mimetype": "text/x-python",
   "name": "python",
   "nbconvert_exporter": "python",
   "pygments_lexer": "ipython3",
   "version": "3.11.9"
  }
 },
 "nbformat": 4,
 "nbformat_minor": 5
}
